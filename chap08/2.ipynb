{
 "cells": [
  {
   "cell_type": "markdown",
   "metadata": {},
   "source": [
    "# Spam classification with naive Bayes\n",
    "\n",
    "Consider the spam classification problem in [Spam classification using logistic regression](https://nbviewer.jupyter.org/github/ppham27/MLaPP-solutions/blob/master/chap08/1.ipynb)."
   ]
  },
  {
   "cell_type": "code",
   "execution_count": 1,
   "metadata": {
    "collapsed": false
   },
   "outputs": [
    {
     "data": {
      "text/html": [
       "<div>\n",
       "<table border=\"1\" class=\"dataframe\">\n",
       "  <thead>\n",
       "    <tr style=\"text-align: right;\">\n",
       "      <th></th>\n",
       "      <th>spam</th>\n",
       "      <th>word_freq_make</th>\n",
       "      <th>word_freq_address</th>\n",
       "      <th>word_freq_all</th>\n",
       "      <th>word_freq_3d</th>\n",
       "      <th>word_freq_our</th>\n",
       "      <th>word_freq_over</th>\n",
       "      <th>word_freq_remove</th>\n",
       "      <th>word_freq_internet</th>\n",
       "      <th>word_freq_order</th>\n",
       "      <th>...</th>\n",
       "      <th>word_freq_conference</th>\n",
       "      <th>char_freq_;</th>\n",
       "      <th>char_freq_(</th>\n",
       "      <th>char_freq_[</th>\n",
       "      <th>char_freq_!</th>\n",
       "      <th>char_freq_$</th>\n",
       "      <th>char_freq_#</th>\n",
       "      <th>capital_run_length_average</th>\n",
       "      <th>capital_run_length_longest</th>\n",
       "      <th>capital_run_length_total</th>\n",
       "    </tr>\n",
       "  </thead>\n",
       "  <tbody>\n",
       "    <tr>\n",
       "      <th>0</th>\n",
       "      <td>1</td>\n",
       "      <td>0.00</td>\n",
       "      <td>0.64</td>\n",
       "      <td>0.64</td>\n",
       "      <td>0.0</td>\n",
       "      <td>0.32</td>\n",
       "      <td>0.00</td>\n",
       "      <td>0.00</td>\n",
       "      <td>0.00</td>\n",
       "      <td>0.00</td>\n",
       "      <td>...</td>\n",
       "      <td>0.0</td>\n",
       "      <td>0.00</td>\n",
       "      <td>0.000</td>\n",
       "      <td>0.0</td>\n",
       "      <td>0.778</td>\n",
       "      <td>0.000</td>\n",
       "      <td>0.000</td>\n",
       "      <td>3.756</td>\n",
       "      <td>61.0</td>\n",
       "      <td>278.0</td>\n",
       "    </tr>\n",
       "    <tr>\n",
       "      <th>1</th>\n",
       "      <td>1</td>\n",
       "      <td>0.06</td>\n",
       "      <td>0.00</td>\n",
       "      <td>0.71</td>\n",
       "      <td>0.0</td>\n",
       "      <td>1.23</td>\n",
       "      <td>0.19</td>\n",
       "      <td>0.19</td>\n",
       "      <td>0.12</td>\n",
       "      <td>0.64</td>\n",
       "      <td>...</td>\n",
       "      <td>0.0</td>\n",
       "      <td>0.01</td>\n",
       "      <td>0.143</td>\n",
       "      <td>0.0</td>\n",
       "      <td>0.276</td>\n",
       "      <td>0.184</td>\n",
       "      <td>0.010</td>\n",
       "      <td>9.821</td>\n",
       "      <td>485.0</td>\n",
       "      <td>2259.0</td>\n",
       "    </tr>\n",
       "    <tr>\n",
       "      <th>2</th>\n",
       "      <td>1</td>\n",
       "      <td>0.15</td>\n",
       "      <td>0.00</td>\n",
       "      <td>0.46</td>\n",
       "      <td>0.0</td>\n",
       "      <td>0.61</td>\n",
       "      <td>0.00</td>\n",
       "      <td>0.30</td>\n",
       "      <td>0.00</td>\n",
       "      <td>0.92</td>\n",
       "      <td>...</td>\n",
       "      <td>0.0</td>\n",
       "      <td>0.00</td>\n",
       "      <td>0.271</td>\n",
       "      <td>0.0</td>\n",
       "      <td>0.181</td>\n",
       "      <td>0.203</td>\n",
       "      <td>0.022</td>\n",
       "      <td>9.744</td>\n",
       "      <td>445.0</td>\n",
       "      <td>1257.0</td>\n",
       "    </tr>\n",
       "    <tr>\n",
       "      <th>3</th>\n",
       "      <td>1</td>\n",
       "      <td>0.06</td>\n",
       "      <td>0.12</td>\n",
       "      <td>0.77</td>\n",
       "      <td>0.0</td>\n",
       "      <td>0.19</td>\n",
       "      <td>0.32</td>\n",
       "      <td>0.38</td>\n",
       "      <td>0.00</td>\n",
       "      <td>0.06</td>\n",
       "      <td>...</td>\n",
       "      <td>0.0</td>\n",
       "      <td>0.04</td>\n",
       "      <td>0.030</td>\n",
       "      <td>0.0</td>\n",
       "      <td>0.244</td>\n",
       "      <td>0.081</td>\n",
       "      <td>0.000</td>\n",
       "      <td>1.729</td>\n",
       "      <td>43.0</td>\n",
       "      <td>749.0</td>\n",
       "    </tr>\n",
       "    <tr>\n",
       "      <th>4</th>\n",
       "      <td>1</td>\n",
       "      <td>0.00</td>\n",
       "      <td>0.69</td>\n",
       "      <td>0.34</td>\n",
       "      <td>0.0</td>\n",
       "      <td>0.34</td>\n",
       "      <td>0.00</td>\n",
       "      <td>0.00</td>\n",
       "      <td>0.00</td>\n",
       "      <td>0.00</td>\n",
       "      <td>...</td>\n",
       "      <td>0.0</td>\n",
       "      <td>0.00</td>\n",
       "      <td>0.056</td>\n",
       "      <td>0.0</td>\n",
       "      <td>0.786</td>\n",
       "      <td>0.000</td>\n",
       "      <td>0.000</td>\n",
       "      <td>3.728</td>\n",
       "      <td>61.0</td>\n",
       "      <td>261.0</td>\n",
       "    </tr>\n",
       "  </tbody>\n",
       "</table>\n",
       "<p>5 rows × 58 columns</p>\n",
       "</div>"
      ],
      "text/plain": [
       "   spam  word_freq_make  word_freq_address  word_freq_all  word_freq_3d  \\\n",
       "0     1            0.00               0.64           0.64           0.0   \n",
       "1     1            0.06               0.00           0.71           0.0   \n",
       "2     1            0.15               0.00           0.46           0.0   \n",
       "3     1            0.06               0.12           0.77           0.0   \n",
       "4     1            0.00               0.69           0.34           0.0   \n",
       "\n",
       "   word_freq_our  word_freq_over  word_freq_remove  word_freq_internet  \\\n",
       "0           0.32            0.00              0.00                0.00   \n",
       "1           1.23            0.19              0.19                0.12   \n",
       "2           0.61            0.00              0.30                0.00   \n",
       "3           0.19            0.32              0.38                0.00   \n",
       "4           0.34            0.00              0.00                0.00   \n",
       "\n",
       "   word_freq_order            ...             word_freq_conference  \\\n",
       "0             0.00            ...                              0.0   \n",
       "1             0.64            ...                              0.0   \n",
       "2             0.92            ...                              0.0   \n",
       "3             0.06            ...                              0.0   \n",
       "4             0.00            ...                              0.0   \n",
       "\n",
       "   char_freq_;  char_freq_(  char_freq_[  char_freq_!  char_freq_$  \\\n",
       "0         0.00        0.000          0.0        0.778        0.000   \n",
       "1         0.01        0.143          0.0        0.276        0.184   \n",
       "2         0.00        0.271          0.0        0.181        0.203   \n",
       "3         0.04        0.030          0.0        0.244        0.081   \n",
       "4         0.00        0.056          0.0        0.786        0.000   \n",
       "\n",
       "   char_freq_#  capital_run_length_average  capital_run_length_longest  \\\n",
       "0        0.000                       3.756                        61.0   \n",
       "1        0.010                       9.821                       485.0   \n",
       "2        0.022                       9.744                       445.0   \n",
       "3        0.000                       1.729                        43.0   \n",
       "4        0.000                       3.728                        61.0   \n",
       "\n",
       "   capital_run_length_total  \n",
       "0                     278.0  \n",
       "1                    2259.0  \n",
       "2                    1257.0  \n",
       "3                     749.0  \n",
       "4                     261.0  \n",
       "\n",
       "[5 rows x 58 columns]"
      ]
     },
     "execution_count": 1,
     "metadata": {},
     "output_type": "execute_result"
    }
   ],
   "source": [
    "%matplotlib inline\n",
    "\n",
    "import numpy as np\n",
    "import pandas as pd\n",
    "import matplotlib.pyplot as plt\n",
    "from sklearn import preprocessing\n",
    "from classifiers import read_spam_data, transform_log, transform_binary\n",
    "\n",
    "train_data, test_data = read_spam_data()\n",
    "\n",
    "# transform the data\n",
    "ytrain = train_data['spam'].as_matrix()\n",
    "ytest = test_data['spam'].as_matrix()\n",
    "Xtrain_raw = train_data.drop('spam', axis = 1).as_matrix()\n",
    "Xtest_raw = test_data.drop('spam', axis = 1).as_matrix()\n",
    "Xtrain_standard = preprocessing.scale(Xtrain_raw, axis=0)\n",
    "Xtest_standard = preprocessing.scale(Xtest_raw, axis=0)\n",
    "Xtrain_log = np.apply_along_axis(transform_log, axis = 0, arr=Xtrain_raw)\n",
    "Xtest_log = np.apply_along_axis(transform_log, axis = 0, arr=Xtest_raw)\n",
    "Xtrain_binary = np.apply_along_axis(transform_binary, axis = 0, arr=Xtrain_raw)\n",
    "Xtest_binary = np.apply_along_axis(transform_binary, axis = 0, arr=Xtest_raw)\n",
    "\n",
    "data_transform = ['Raw', 'Standard', 'Log', 'Binary']\n",
    "Xtrain = [Xtrain_raw, Xtrain_standard, Xtrain_log, Xtrain_binary]\n",
    "Xtest = [Xtest_raw, Xtest_standard, Xtest_log, Xtest_binary]\n",
    "\n",
    "test_data.head()"
   ]
  },
  {
   "cell_type": "markdown",
   "metadata": {},
   "source": [
    "Let us try classifying with naive Bayes instead. \n",
    "\n",
    "Logistic regression is a discriminative model since we try to learn the conditional distribution $p(y \\mid \\mathbf{x})$, whereas, naive Bayes is a generative model since we try to learn the joint distribution $p(\\mathbf{x}, y).$ \n",
    "\n",
    "Suppose that $\\mathbf{x} = \\left(x_1,x_2,\\ldots,x_p\\right)^\\intercal$. Then, the joint distribution can be factored as\n",
    "\n",
    "\\begin{equation}\n",
    "p(\\mathbf{x}, y) = p(y)p(x_1 \\mid y)p(x_2 \\mid x_1, y)\n",
    "\\cdots p(x_p \\mid x_1,x_2,\\ldots,x_{p-1} ,y).\n",
    "\\end{equation}\n",
    "\n",
    "It's not hard to see that this quickly becomes unfeasible both due to lack of data and memory constraints. If each $x_i$ can take on even two values, then we have on the order of $O(2^p)$ parameters. \n",
    "\n",
    "Naive Bayes makes the simplifying assumption that the elements of $\\mathbf{x}$ are conditionally independent given $y$, so we can write\n",
    "\n",
    "\\begin{equation}\n",
    "p(\\mathbf{x}, y) = p(y)p(x_1 \\mid y)p(x_2 \\mid y)\n",
    "\\cdots p(x_p \\mid y) = p(y)p(\\mathbf{x} \\mid y),\n",
    "\\end{equation}\n",
    "\n",
    "so now we merely have $O(pK)$ parameters, where $p$ is the number of features and $K$ is the number of classes.\n",
    "\n",
    "Once we have figured out the joint distribution, finding the conditional distribution is easy. It's just\n",
    "\n",
    "\\begin{equation}\n",
    "p(y = k \\mid \\mathbf{x}) = \\frac{p(\\mathbf{x}, y = k)}{\\sum_{k^\\prime=1}^Kp(\\mathbf{x}, y = k^\\prime)}.\n",
    "\\end{equation}\n",
    "\n",
    "The various flavors of naive Bayes mainly differ on the distribution for $p(\\mathbf{x} \\mid y)$.\n",
    "\n",
    "\n",
    "## Bernoulli naive Bayes\n",
    "\n",
    "As one can probably guess from its name, the assumption is that\n",
    "\n",
    "\\begin{equation}\n",
    "x_{j} \\mid y = k \\sim \\operatorname{Bernoulli}(\\theta_{jk}).\n",
    "\\end{equation}\n",
    "\n",
    "We also assume that \n",
    "\n",
    "\\begin{equation}\n",
    "y \\sim \\operatorname{Multinomial}(1, \\boldsymbol{\\pi}), \n",
    "~\\text{where}~\\boldsymbol\\pi = (\\pi_1,\\pi_2,\\ldots,\\pi_K)\n",
    "~\\text{and}~\\sum_{k = 1}^K \\pi_k = 1.\n",
    "\\end{equation}\n",
    "\n",
    "How should we estimate $\\boldsymbol\\theta$ and $\\boldsymbol\\pi$? One option is to put a prior on each $\\theta_{jk}$ and $\\boldsymbol\\pi$. If we do this, we have that\n",
    "\n",
    "\\begin{align}\n",
    "p(\\mathbf{x}, y = k) &= \n",
    "\\int\\int p(\\mathbf{x}, y = k \\mid \\boldsymbol\\theta, \\boldsymbol\\pi)p(\\boldsymbol\\theta, \\boldsymbol\\pi)\\,d\\boldsymbol\\pi\\,d\\boldsymbol\\theta = \n",
    "\\int p(y=k \\mid \\boldsymbol\\pi)p(\\boldsymbol\\pi)\\,d\\boldsymbol\\pi \n",
    "\\int p(\\mathbf{x} \\mid \\boldsymbol \\theta)\\,d\\boldsymbol\\theta \\\\\n",
    "&= \\int p(y=k \\mid \\boldsymbol\\pi)p(\\boldsymbol\\pi)\\,d\\boldsymbol\\pi\n",
    "   \\int p(x_1 \\mid y = k, \\theta_{1k})p(\\theta_{1k})\\,d\\theta_{1k}\n",
    "   \\int p(x_2 \\mid y = k, \\theta_{2k})p(\\theta_{2k})\\,d\\theta_{2k}\n",
    "   \\cdots\n",
    "   \\int p(x_p \\mid y = k, \\theta_{pk})p(\\theta_{2k})\\,d\\theta_{pk}\n",
    "\\end{align}\n",
    "\n",
    "if we make all the priors independent of each other. Now, the integration becomes simple if we use conjugate priors. We let $\\theta_{jk} \\sim \\operatorname{Beta}(\\alpha_{jk}, \\beta_{jk})$ and $\\boldsymbol\\pi \\sim \\operatorname{Dirichlet}(\\boldsymbol\\gamma)$.\n",
    "\n",
    "Now consider conditioning on the data $\\mathcal{D}$, too. Say make $N$ observations in total, and we observe $N_k$ instances of each class $k$. Morever, we observe $N_{kj}$ instances of a feature $j$ in class $k$.\n",
    "\n",
    "We will have that\n",
    "\n",
    "\\begin{align}\n",
    "\\int p(y=k \\mid \\boldsymbol\\pi, \\mathcal{D})p(\\boldsymbol\\pi \\mid \\mathcal{D})\\,d\\boldsymbol\\pi &= \\frac{N_k + \\gamma_k}{N + \\sum_{k^\\prime = 1}^K \\gamma_{k^\\prime}} \\\\\n",
    "\\int p(x_j  = 1\\mid y = k, \\theta_{jk}, \\mathcal{D})p(\\theta_{jk} \\mid \\mathcal{D})\\,d\\theta_{jk} \n",
    "&= \\frac{N_{kj} + \\alpha_{jk}}{N_k + \\alpha_{jk} + \\beta_{jk}}\n",
    "\\end{align}\n",
    "by [Table_of_conjugate_distributions](https://en.wikipedia.org/wiki/Conjugate_prior#Table_of_conjugate_distributions).\n",
    "\n",
    "In this manner, we have that\n",
    "\n",
    "\\begin{equation}\n",
    "\\log p(\\mathbf{x}, y = k \\mid \\mathcal{D}) = \n",
    "\\log\\left(\\frac{N_k + \\gamma_k}{N + \\sum_{k^\\prime = 1}^K \\gamma_{k^\\prime}} \\right)\n",
    "+ \\sum_{j=1}^p \\left(\n",
    "x_j\\log\\left(\\frac{N_{kj} + \\alpha_{jk}}{N_k + \\alpha_{jk} + \\beta_{jk}}\\right)\n",
    "+\n",
    "(1 - x_j)\\log\\left(\\frac{N_k - N_{kj} + \\beta_{jk}}{N_k + \\alpha_{jk} + \\beta_{jk}}\\right)\n",
    "\\right),\n",
    "\\end{equation}\n",
    "where we compute the log sum for numerical stability. In practice, we often let $\\alpha_{jk} = \\beta_{jk}$ and $\\alpha_{jk} = \\alpha_{j^\\prime k^\\prime}$ for all $j$, $j^\\prime$, $k$, and $k^\\prime$.\n",
    "\n",
    "Let's try this model out."
   ]
  },
  {
   "cell_type": "code",
   "execution_count": 2,
   "metadata": {
    "collapsed": false
   },
   "outputs": [
    {
     "name": "stdout",
     "output_type": "stream",
     "text": [
      "0.110026041667\n"
     ]
    }
   ],
   "source": [
    "# from sklearn.naive_bayes import BernoulliNB # reference sklearn implementation\n",
    "from classifiers import BernoulliNB\n",
    "\n",
    "# bernNBClf = BernoulliNB(alpha = 1, fit_prior = True)\n",
    "bernNBClf = BernoulliNB(alpha = 1)\n",
    "bernNBClf.fit(Xtrain_binary, ytrain)\n",
    "print(1 - bernNBClf.score(Xtest_binary, ytest))"
   ]
  },
  {
   "cell_type": "markdown",
   "metadata": {},
   "source": [
    "We find that we achieve a misclassification rate of 11% with Laplace smoothing ($\\alpha = 1$). You can see the my implementation of naive Bayes on [GitHub](https://github.com/ppham27/MLaPP-solutions/blob/master/chap08/classifiers.py). Let us try to pick the correct value of $\\alpha$."
   ]
  },
  {
   "cell_type": "code",
   "execution_count": 3,
   "metadata": {
    "collapsed": false
   },
   "outputs": [
    {
     "data": {
      "image/png": "[encoded data removed]",
      "text/plain": [
       "<matplotlib.figure.Figure at 0x1119832e8>"
      ]
     },
     "metadata": {},
     "output_type": "display_data"
    }
   ],
   "source": [
    "binary_misclassification_rate = pd.DataFrame(index=np.arange(11), \n",
    "                                             columns=[\"Train Error\", \"Test Error\"], \n",
    "                                             dtype=np.float64)\n",
    "for alpha in binary_misclassification_rate.index:\n",
    "    bernNBClf = BernoulliNB(alpha = alpha)\n",
    "    bernNBClf.fit(Xtrain_binary, ytrain)\n",
    "    binary_misclassification_rate.loc[alpha]['Train Error'] = 1 - bernNBClf.score(Xtrain_binary, ytrain)\n",
    "    binary_misclassification_rate.loc[alpha]['Test Error'] = 1 - bernNBClf.score(Xtest_binary, ytest)\n",
    "## let us plot these results\n",
    "plt.rc('font', size=13.)\n",
    "plt.figure(figsize=(8, 6))\n",
    "plt.plot(binary_misclassification_rate.index, \n",
    "         binary_misclassification_rate['Train Error'], '--xk',\n",
    "         binary_misclassification_rate['Test Error'], '-or')\n",
    "plt.legend(labels = binary_misclassification_rate.columns)\n",
    "plt.xlabel(r\"$\\alpha$\")\n",
    "plt.ylabel(\"Misclassification Rate\")\n",
    "plt.title(\"Training and Test Set Errors\")\n",
    "plt.grid(True)\n",
    "plt.show()"
   ]
  },
  {
   "cell_type": "markdown",
   "metadata": {},
   "source": [
    "So, a value of $\\alpha = 1$ does achieve the lowest misclassification rate. Of course, this flavor of naive Bayes only worked on binary features. Let us extend this method by assuming a different distribution for $p(\\mathbf{x} \\mid y)$.\n",
    "\n",
    "## Gaussian naive Bayes\n",
    "\n",
    "Now, we assume that \n",
    "\n",
    "\\begin{equation}\n",
    "x_j \\mid y = k \\sim \\mathcal{N}(\\mu_{jk}, \\sigma^2_{jk}).\n",
    "\\end{equation}\n",
    "\n",
    "One can see that this is equivalent to writing\n",
    "\n",
    "\\begin{equation}\n",
    "\\mathbf{x} \\mid y = k \\sim \\mathcal{N}(\\boldsymbol\\mu_{k}, \\Sigma_{k}),\n",
    "\\end{equation}\n",
    "\n",
    "where $\\Sigma$ is a diagonal matrix, so this is equivalent to [Quadratic Discriminant Analysis](https://nbviewer.jupyter.org/github/ppham27/MLaPP-solutions/blob/master/chap04/17.ipynb) restricted to diagonal matrices.\n",
    "\n",
    "There's not really a reasonable prior to use, so we can esimate the parameters wit maximum likelihood esimate (MLE). We have that\n",
    "\n",
    "\\begin{align}\n",
    "\\hat{\\mu}_{jk} &= \\frac{1}{N_k}\\sum_{\\{i~:~y_i = k\\}} x_{ij} \\\\\n",
    "\\hat{\\sigma}^2_{jk} &= \\frac{1}{N_k}\\sum_{\\{i~:~y_i = k\\}}\\left(x_{ij} - \\hat{\\mu}_{jk}\\right)^2 \n",
    "= \\frac{1}{N_k}\\sum_{\\{i~:~y_i = k\\}}x_{ij}^2 - \\hat{\\mu}_{jk}^2,\n",
    "\\end{align}\n",
    "\n",
    "so we just need to keep track of the class counts and the sums and squared sums for each feature and class. \n",
    "\n",
    "We still give $y$ a multinomial distribution, so we can put the same Dirichlet distribution on $\\boldsymbol\\pi$."
   ]
  },
  {
   "cell_type": "code",
   "execution_count": 4,
   "metadata": {
    "collapsed": false
   },
   "outputs": [
    {
     "data": {
      "text/plain": [
       "0.18098958333333337"
      ]
     },
     "execution_count": 4,
     "metadata": {},
     "output_type": "execute_result"
    }
   ],
   "source": [
    "## from sklearn.naive_bayes import GaussianNB # reference sklearn implementation\n",
    "from classifiers import GaussianNB\n",
    "\n",
    "gaussNBClf = GaussianNB()\n",
    "gaussNBClf.fit(Xtrain_log, ytrain)\n",
    "1 - gaussNBClf.score(Xtest_log, ytest)"
   ]
  },
  {
   "cell_type": "markdown",
   "metadata": {},
   "source": [
    "You can see my code for Gaussian naive Bayes on [GitHub](https://github.com/ppham27/MLaPP-solutions/blob/master/chap08/classifiers.py), too. Let's compare all the error rates for the various methods and data transforms."
   ]
  },
  {
   "cell_type": "code",
   "execution_count": 5,
   "metadata": {
    "collapsed": false
   },
   "outputs": [
    {
     "data": {
      "text/html": [
       "<div>\n",
       "<table border=\"1\" class=\"dataframe\">\n",
       "  <thead>\n",
       "    <tr style=\"text-align: right;\">\n",
       "      <th></th>\n",
       "      <th>Train Error</th>\n",
       "      <th>Test Error</th>\n",
       "    </tr>\n",
       "  </thead>\n",
       "  <tbody>\n",
       "    <tr>\n",
       "      <th>Raw</th>\n",
       "      <td>0.175856</td>\n",
       "      <td>0.185547</td>\n",
       "    </tr>\n",
       "    <tr>\n",
       "      <th>Standard</th>\n",
       "      <td>0.175856</td>\n",
       "      <td>0.188802</td>\n",
       "    </tr>\n",
       "    <tr>\n",
       "      <th>Log</th>\n",
       "      <td>0.163458</td>\n",
       "      <td>0.180990</td>\n",
       "    </tr>\n",
       "    <tr>\n",
       "      <th>Binary</th>\n",
       "      <td>0.111909</td>\n",
       "      <td>0.110026</td>\n",
       "    </tr>\n",
       "  </tbody>\n",
       "</table>\n",
       "</div>"
      ],
      "text/plain": [
       "          Train Error  Test Error\n",
       "Raw          0.175856    0.185547\n",
       "Standard     0.175856    0.188802\n",
       "Log          0.163458    0.180990\n",
       "Binary       0.111909    0.110026"
      ]
     },
     "execution_count": 5,
     "metadata": {},
     "output_type": "execute_result"
    }
   ],
   "source": [
    "misclassification_rates = pd.DataFrame(index=data_transform, \n",
    "                                       columns=['Train Error', 'Test Error'],\n",
    "                                       dtype=np.float64)\n",
    "misclassification_rates.loc['Binary'] = binary_misclassification_rate.iloc[np.argmin(binary_misclassification_rate['Test Error'])]\n",
    "for i in range(len(data_transform)):\n",
    "    if data_transform[i] != 'Binary':\n",
    "        gaussNBClf = GaussianNB()\n",
    "        gaussNBClf.fit(Xtrain[i], ytrain)\n",
    "        misclassification_rates.loc[data_transform[i]]['Train Error'] = 1 - gaussNBClf.score(Xtrain[i], ytrain)\n",
    "        misclassification_rates.loc[data_transform[i]]['Test Error'] = 1 - gaussNBClf.score(Xtest[i], ytest)\n",
    "misclassification_rates.head()"
   ]
  },
  {
   "cell_type": "markdown",
   "metadata": {},
   "source": [
    "Just as before in [Spam classification using logistic regression](https://nbviewer.jupyter.org/github/ppham27/MLaPP-solutions/blob/master/chap08/1.ipynb), the log transform gives us the lowest misclassification rate for continuous data. Binary is best overall, however. Now, just for fun, let's plot these differences since I need to learn how to make bar graphs with `matplotlib`."
   ]
  },
  {
   "cell_type": "code",
   "execution_count": 6,
   "metadata": {
    "collapsed": false
   },
   "outputs": [
    {
     "data": {
      "image/png": "[encoded data removed]",
      "text/plain": [
       "<matplotlib.figure.Figure at 0x1122bd898>"
      ]
     },
     "metadata": {},
     "output_type": "display_data"
    }
   ],
   "source": [
    "bar_width = 0.35\n",
    "plt.figure(figsize=(12, 8))\n",
    "plt.bar(np.arange(len(misclassification_rates)),\n",
    "        misclassification_rates['Train Error'],\n",
    "        bar_width, color='#fbb4ae', label=\"Training\")\n",
    "plt.bar(np.arange(len(misclassification_rates)) + bar_width,\n",
    "        misclassification_rates['Test Error'],\n",
    "        bar_width, color='#b3cde3', label=\"Test\")\n",
    "\n",
    "plt.legend()\n",
    "plt.xlabel(\"Data transform\")\n",
    "plt.ylabel(\"Misclassification rate\")\n",
    "plt.title(\"Error rate for various flavors of naive Bayes\")\n",
    "plt.xticks(np.arange(len(misclassification_rates)) + bar_width, misclassification_rates.index)\n",
    "plt.grid(True)\n",
    "plt.show()"
   ]
  },
  {
   "cell_type": "markdown",
   "metadata": {},
   "source": [
    "Clearly, logistic regression works much better, for in [Spam classification using logistic regression](https://nbviewer.jupyter.org/github/ppham27/MLaPP-solutions/blob/master/chap08/1.ipynb), we achieve an error rate of 5.8% compared to 11% here. Amazingly, logistic regression has much fewer parameters, too. For logistic regression, we have a coefficient for each feature plus an intercept term, which gives a mere $p + 1$ parameters. On the other hand, naive Bayes has at least 1 parameter for each feature-class combination, which gives us at least $pK$ parameters. Despite this disparity, logistic regression outperforms naive Bayes. \n",
    "\n",
    "For whatever reason, naive Bayes works better with discrete features versus continuous features for this particular problem. I wonder if a mixed model using both continuous and discrete features would work better?"
   ]
  }
 ],
 "metadata": {
  "kernelspec": {
   "display_name": "Python 3",
   "language": "python",
   "name": "python3"
  },
  "language_info": {
   "codemirror_mode": {
    "name": "ipython",
    "version": 3
   },
   "file_extension": ".py",
   "mimetype": "text/x-python",
   "name": "python",
   "nbconvert_exporter": "python",
   "pygments_lexer": "ipython3",
   "version": "3.5.1"
  }
 },
 "nbformat": 4,
 "nbformat_minor": 0
}
