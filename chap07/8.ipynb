{
 "cells": [
  {
   "cell_type": "markdown",
   "metadata": {},
   "source": [
    "# Bayesian linear regression in 1 dimension with known $\\sigma^2$\n",
    "\n",
    "Consider fitting a model of the form\n",
    "\n",
    "\\begin{equation}\n",
    "y \\mid x, \\theta \\sim \\mathcal{N}\\left(w_0 + w_1x, \\sigma^2\\right).\n",
    "\\end{equation}\n",
    "\n",
    "We are given the data below."
   ]
  },
  {
   "cell_type": "code",
   "execution_count": 1,
   "metadata": {
    "collapsed": false
   },
   "outputs": [
    {
     "name": "stdout",
     "output_type": "stream",
     "text": [
      "{'slope': 0.042651413189771205, 'intercept': -3.2564284840327913, 'variance': 0.01388832853186212}\n"
     ]
    },
    {
     "data": {
      "image/png": "[encoded data removed]",
      "text/plain": [
       "<matplotlib.figure.Figure at 0x1082aa438>"
      ]
     },
     "metadata": {},
     "output_type": "display_data"
    }
   ],
   "source": [
    "%matplotlib inline\n",
    "\n",
    "import numpy as np\n",
    "import matplotlib.pyplot as plt\n",
    "from scipy import stats\n",
    "from linreg import *\n",
    "\n",
    "X = np.array([94,96,94,95,104,106,108,113,115,121,131], dtype=np.float64)\n",
    "Y = np.array([0.47,0.75,0.83,0.98,1.18,1.29,1.40,1.60,1.75,1.90,2.23])\n",
    "N = len(X)\n",
    "\n",
    "linreg = SimpleOnlineLinearRegressor()\n",
    "linreg.fit(X, Y)\n",
    "print(linreg.get_params())\n",
    "\n",
    "plot_xy(X, Y)\n",
    "plot_abline(linreg.get_params()['slope'], linreg.get_params()['intercept'], \n",
    "            np.min(X) - 1, np.max(X) + 1)\n",
    "plt.show()"
   ]
  },
  {
   "cell_type": "markdown",
   "metadata": {},
   "source": [
    "Part (a) asks us to compute an unbiased estimate of $\\sigma^2$, which is\n",
    "\n",
    "\\begin{equation}\n",
    "\\hat{\\sigma}^2 = \\frac{1}{N - 2}\\sum_{i=1}^N\\left(y_i - \\hat{y}_i\\right)^2.\n",
    "\\end{equation}"
   ]
  },
  {
   "cell_type": "code",
   "execution_count": 2,
   "metadata": {
    "collapsed": false
   },
   "outputs": [
    {
     "name": "stdout",
     "output_type": "stream",
     "text": [
      "0.0169746237612\n"
     ]
    }
   ],
   "source": [
    "Y_hat = linreg.predict(X)\n",
    "sigma2_hat = np.dot(Y - Y_hat, Y - Y_hat)/(N-2)\n",
    "print(sigma2_hat)"
   ]
  },
  {
   "cell_type": "markdown",
   "metadata": {},
   "source": [
    "We find that $\\boxed{\\hat{\\sigma}^2 \\approx 0.0169746237612.}$ Now, for part (b), we put a prior on $(w_0,w_1)$, where $p(w_0, w_1) = p(w_0)p(w_1)$ such that $p(w_0) \\propto 1$ and $w_1 \\sim \\mathcal{N}(0,1)$. We can write this as \n",
    "\n",
    "\\begin{equation}\n",
    "\\mathbf{w} = \\begin{pmatrix}w_0 \\\\ w_1 \\end{pmatrix} \n",
    "\\sim \\mathcal{N}\\left(\\mathbf{w}_0, \\mathbf{V}_0\\right),\n",
    "~\\text{where}~\\mathbf{w}_0 = \\begin{pmatrix} 0 \\\\ 0 \\end{pmatrix}\n",
    "~\\text{and}~\\mathbf{V}_0 = \\begin{pmatrix}\\sigma_0 & 0 \\\\ 0 & 1\\end{pmatrix},\n",
    "\\end{equation}\n",
    "\n",
    "where we let $\\sigma_0 \\rightarrow \\infty$. \n",
    "\n",
    "Part (c) asks us to compute the marginal posterior for the slope $p\\left(w_1 \\mid \\mathcal{D}, \\sigma^2\\right)$, where we let $\\sigma^2 = \\hat{\\sigma}^2$ computed above. First, by section section 7.6.1 in the textbook, the joint posterior has distrbution\n",
    "\n",
    "\\begin{align}\n",
    "\\mathbf{w} &\\mid \\mathcal{D}, \\sigma^2 \\sim \\mathcal{N}\\left(\\mathbf{w}_N, \\mathbf{V}_N\\right) \\\\\n",
    "\\mathbf{V}_N &= \\sigma^2\\left(\\sigma^2\\mathbf{V}_0 + \\mathbf{X}^\\intercal\\mathbf{X}\\right)^{-1} \\\\\n",
    "&= \\frac{\\sigma^2}{\\sigma^2 + \\sum_{i=1}^N x_i^2 - N\\bar{x}^2}\n",
    "\\begin{pmatrix}\n",
    "\\frac{\\sigma^2}{N} + \\frac{1}{N}\\sum_{i=1}^N x_i^2 & -\\bar{x} \\\\\n",
    "-\\bar{x} & 1\n",
    "\\end{pmatrix}. \\\\\n",
    "\\mathbf{w}_N &= \\mathbf{V}_N\\mathbf{V}_0^{-1}\\mathbf{w}_0 + \\frac{1}{\\sigma^2}\\mathbf{V}_N\\mathbf{X}^\\intercal \\mathbf{y} \\\\\n",
    "&= \\left(\\frac{\\sigma^2}{N} + \\frac{1}{N}\\sum_{i=1}^N x_i^2 - \\bar{x}^2\\right)^{-1}\n",
    "\\begin{pmatrix}\n",
    "\\left(\\frac{\\sigma^2}{N} + \\frac{1}{N}\\sum_{i=1}^N x_i^2\\right)\\bar{y} - \\frac{\\bar{x}}{N}\\sum_{i=1}^N x_iy_i \\\\\n",
    "\\frac{1}{N}\\sum_{i=1}^N x_iy_i - \\bar{x}\\bar{y}\n",
    "\\end{pmatrix}\\\\\n",
    "&= \\left(\\frac{\\sigma^2}{N} + \\frac{1}{N}\\sum_{i=1}^N x_i^2 - \\bar{x}^2\\right)^{-1}\n",
    "\\begin{pmatrix}\n",
    "\\left(\\frac{\\sigma^2}{N} + \\frac{1}{N}\\sum_{i=1}^N x_i^2 - \\bar{x}^2\\right)\\bar{y} - \\bar{x}\\left(\\frac{1}{N}\\sum_{i=1}^N x_iy_i - \\bar{x}\\bar{y}\\right) \\\\\n",
    "\\frac{1}{N}\\sum_{i=1}^N x_iy_i - \\bar{x}\\bar{y}\n",
    "\\end{pmatrix}.\n",
    "\\end{align}\n",
    "\n",
    "Thus, the marginal distribution for $w_1$ is\n",
    "\n",
    "\\begin{equation}\n",
    "w_1 \\mid \\mathcal{D}, \\sigma^2 \\sim \\mathcal{N}\\left(\\left(\\frac{\\sigma^2}{N} + \\frac{1}{N}\\sum_{i=1}^N x_i^2 - \\bar{x}^2\\right)^{-1}\\left(\\frac{1}{N}\\sum_{i=1}^N x_iy_i - \\bar{x}\\bar{y}\\right),\n",
    "\\frac{\\sigma^2}{\\sigma^2 + \\sum_{i=1}^N x_i^2 - N\\bar{x}^2}\n",
    "\\right).\n",
    "\\end{equation}\n",
    "\n",
    "Let us calculate these values numerically."
   ]
  },
  {
   "cell_type": "code",
   "execution_count": 3,
   "metadata": {
    "collapsed": false
   },
   "outputs": [
    {
     "name": "stdout",
     "output_type": "stream",
     "text": [
      "0.0426509259869\n",
      "1.14229003107e-05\n"
     ]
    }
   ],
   "source": [
    "w1_var = sigma2_hat/(sigma2_hat + np.dot(X, X) - N*np.mean(X)**2)\n",
    "w1_mean = (np.dot(X,Y) - N*np.mean(X)*np.mean(Y))/(sigma2_hat + np.dot(X, X) - N*np.mean(X)**2)\n",
    "print(w1_mean)\n",
    "print(w1_var)"
   ]
  },
  {
   "cell_type": "markdown",
   "metadata": {},
   "source": [
    "So we have that\n",
    "\n",
    "\\begin{align}\n",
    "\\mathbb{E}\\left[w_1 \\mid \\mathcal{D}, \\sigma^2\\right] &\\approx 0.0426509259869 \\\\\n",
    "\\operatorname{Var}\\left[w_1 \\mid \\mathcal{D}, \\sigma^2\\right] &\\approx 1.14229003107 \\times 10^{-5}.\n",
    "\\end{align}\n",
    "\n",
    "Finally part (d) asks us to compute the 95% credible interval, which is\n",
    "\\begin{equation}\n",
    "\\left[\\mathbb{E}\\left[w_1 \\mid \\mathcal{D}, \\sigma^2\\right] - \\Phi^{-1}(0.975)\\sqrt{\\operatorname{Var}\\left[w_1 \\mid \\mathcal{D}, \\sigma^2\\right]},\n",
    "\\mathbb{E}\\left[w_1 \\mid \\mathcal{D}, \\sigma^2\\right] + \\Phi^{-1}(0.975)\\sqrt{\\operatorname{Var}\\left[w_1 \\mid \\mathcal{D}, \\sigma^2\\right]}\\right].\n",
    "\\end{equation}\n",
    "\n",
    "Let's calculate this."
   ]
  },
  {
   "cell_type": "code",
   "execution_count": 4,
   "metadata": {
    "collapsed": false
   },
   "outputs": [
    {
     "name": "stdout",
     "output_type": "stream",
     "text": [
      "0.0360266825466\n",
      "0.0492751694272\n"
     ]
    }
   ],
   "source": [
    "print(w1_mean - stats.norm.ppf(0.975)*np.sqrt(w1_var))\n",
    "print(w1_mean + stats.norm.ppf(0.975)*np.sqrt(w1_var))"
   ]
  },
  {
   "cell_type": "markdown",
   "metadata": {},
   "source": [
    "So, we have that\n",
    "\n",
    "\\begin{equation} \n",
    "p(0.0360266825466 \\leq w_1 \\leq 0.0492751694272) \\approx 0.95.\n",
    "\\end{equation}"
   ]
  }
 ],
 "metadata": {
  "kernelspec": {
   "display_name": "Python 3",
   "language": "python",
   "name": "python3"
  },
  "language_info": {
   "codemirror_mode": {
    "name": "ipython",
    "version": 3
   },
   "file_extension": ".py",
   "mimetype": "text/x-python",
   "name": "python",
   "nbconvert_exporter": "python",
   "pygments_lexer": "ipython3",
   "version": "3.5.1"
  }
 },
 "nbformat": 4,
 "nbformat_minor": 0
}
